{
  "cells": [
    {
      "cell_type": "markdown",
      "metadata": {
        "id": "view-in-github",
        "colab_type": "text"
      },
      "source": [
        "<a href=\"https://colab.research.google.com/github/webstarO/CovidEDA/blob/main/CovidEDA.ipynb\" target=\"_parent\"><img src=\"https://colab.research.google.com/assets/colab-badge.svg\" alt=\"Open In Colab\"/></a>"
      ]
    },
    {
      "cell_type": "markdown",
      "metadata": {
        "id": "5dN0obxJwtZO"
      },
      "source": [
        "**Install and Import the necessary tools for your analysis**\n",
        "\n"
      ]
    },
    {
      "cell_type": "code",
      "execution_count": 1,
      "metadata": {
        "id": "KhHo2CA5pGVs",
        "colab": {
          "base_uri": "https://localhost:8080/"
        },
        "outputId": "c331d759-141d-43e2-e57d-397bf181b85b"
      },
      "outputs": [
        {
          "output_type": "stream",
          "name": "stdout",
          "text": [
            "Looking in indexes: https://pypi.org/simple, https://us-python.pkg.dev/colab-wheels/public/simple/\n",
            "Collecting pyforest\n",
            "  Downloading pyforest-1.1.0.tar.gz (15 kB)\n",
            "  Preparing metadata (setup.py) ... \u001b[?25l\u001b[?25hdone\n",
            "Building wheels for collected packages: pyforest\n",
            "  Building wheel for pyforest (setup.py) ... \u001b[?25l\u001b[?25hdone\n",
            "  Created wheel for pyforest: filename=pyforest-1.1.0-py2.py3-none-any.whl size=14606 sha256=0560995d717032681fd76659c729a89ce42869dad6e70483c85c53f452c66e78\n",
            "  Stored in directory: /root/.cache/pip/wheels/d5/1a/3e/6193fe1c56168f5df4aef57d8411033ba4611881135d495727\n",
            "Successfully built pyforest\n",
            "Installing collected packages: pyforest\n",
            "Successfully installed pyforest-1.1.0\n"
          ]
        }
      ],
      "source": [
        "pip install pyforest"
      ]
    },
    {
      "cell_type": "code",
      "execution_count": 2,
      "metadata": {
        "id": "ZkcmGBaTs05r"
      },
      "outputs": [],
      "source": [
        "#this will import all modules\n",
        "import pyforest"
      ]
    },
    {
      "cell_type": "code",
      "execution_count": 3,
      "metadata": {
        "id": "pPDDiSk4rTLo"
      },
      "outputs": [],
      "source": [
        "import pandas as pd"
      ]
    },
    {
      "cell_type": "markdown",
      "metadata": {
        "id": "y3mPSW3Aw-q1"
      },
      "source": [
        "**Bring your data into the notebook. Describe the data to view summary**"
      ]
    },
    {
      "cell_type": "code",
      "execution_count": 4,
      "metadata": {
        "id": "vlCdft-stA6U"
      },
      "outputs": [],
      "source": [
        "df = pd.read_csv('/content/drive/MyDrive/Colab Notebooks/owid-covid-data.csv')"
      ]
    },
    {
      "cell_type": "markdown",
      "source": [
        "**Check up top 5 rows**"
      ],
      "metadata": {
        "id": "oW5N54PABv-L"
      }
    },
    {
      "cell_type": "code",
      "execution_count": 5,
      "metadata": {
        "colab": {
          "base_uri": "https://localhost:8080/",
          "height": 386
        },
        "id": "Zg6_3jmp5Onh",
        "outputId": "e497d6a9-b753-416f-a93e-57a931f5f487"
      },
      "outputs": [
        {
          "output_type": "execute_result",
          "data": {
            "text/plain": [
              "  iso_code continent     location        date  total_cases  new_cases  \\\n",
              "0      AFG      Asia  Afghanistan  2020-02-24          5.0        5.0   \n",
              "1      AFG      Asia  Afghanistan  2020-02-25          5.0        0.0   \n",
              "2      AFG      Asia  Afghanistan  2020-02-26          5.0        0.0   \n",
              "3      AFG      Asia  Afghanistan  2020-02-27          5.0        0.0   \n",
              "4      AFG      Asia  Afghanistan  2020-02-28          5.0        0.0   \n",
              "\n",
              "   new_cases_smoothed  total_deaths  new_deaths  new_deaths_smoothed  ...  \\\n",
              "0                 NaN           NaN         NaN                  NaN  ...   \n",
              "1                 NaN           NaN         NaN                  NaN  ...   \n",
              "2                 NaN           NaN         NaN                  NaN  ...   \n",
              "3                 NaN           NaN         NaN                  NaN  ...   \n",
              "4                 NaN           NaN         NaN                  NaN  ...   \n",
              "\n",
              "   male_smokers  handwashing_facilities  hospital_beds_per_thousand  \\\n",
              "0           NaN                  37.746                         0.5   \n",
              "1           NaN                  37.746                         0.5   \n",
              "2           NaN                  37.746                         0.5   \n",
              "3           NaN                  37.746                         0.5   \n",
              "4           NaN                  37.746                         0.5   \n",
              "\n",
              "   life_expectancy  human_development_index  population  \\\n",
              "0            64.83                    0.511  41128772.0   \n",
              "1            64.83                    0.511  41128772.0   \n",
              "2            64.83                    0.511  41128772.0   \n",
              "3            64.83                    0.511  41128772.0   \n",
              "4            64.83                    0.511  41128772.0   \n",
              "\n",
              "   excess_mortality_cumulative_absolute  excess_mortality_cumulative  \\\n",
              "0                                   NaN                          NaN   \n",
              "1                                   NaN                          NaN   \n",
              "2                                   NaN                          NaN   \n",
              "3                                   NaN                          NaN   \n",
              "4                                   NaN                          NaN   \n",
              "\n",
              "   excess_mortality  excess_mortality_cumulative_per_million  \n",
              "0               NaN                                      NaN  \n",
              "1               NaN                                      NaN  \n",
              "2               NaN                                      NaN  \n",
              "3               NaN                                      NaN  \n",
              "4               NaN                                      NaN  \n",
              "\n",
              "[5 rows x 67 columns]"
            ],
            "text/html": [
              "\n",
              "  <div id=\"df-336f89ba-f31e-41f2-89aa-47e5add47151\">\n",
              "    <div class=\"colab-df-container\">\n",
              "      <div>\n",
              "<style scoped>\n",
              "    .dataframe tbody tr th:only-of-type {\n",
              "        vertical-align: middle;\n",
              "    }\n",
              "\n",
              "    .dataframe tbody tr th {\n",
              "        vertical-align: top;\n",
              "    }\n",
              "\n",
              "    .dataframe thead th {\n",
              "        text-align: right;\n",
              "    }\n",
              "</style>\n",
              "<table border=\"1\" class=\"dataframe\">\n",
              "  <thead>\n",
              "    <tr style=\"text-align: right;\">\n",
              "      <th></th>\n",
              "      <th>iso_code</th>\n",
              "      <th>continent</th>\n",
              "      <th>location</th>\n",
              "      <th>date</th>\n",
              "      <th>total_cases</th>\n",
              "      <th>new_cases</th>\n",
              "      <th>new_cases_smoothed</th>\n",
              "      <th>total_deaths</th>\n",
              "      <th>new_deaths</th>\n",
              "      <th>new_deaths_smoothed</th>\n",
              "      <th>...</th>\n",
              "      <th>male_smokers</th>\n",
              "      <th>handwashing_facilities</th>\n",
              "      <th>hospital_beds_per_thousand</th>\n",
              "      <th>life_expectancy</th>\n",
              "      <th>human_development_index</th>\n",
              "      <th>population</th>\n",
              "      <th>excess_mortality_cumulative_absolute</th>\n",
              "      <th>excess_mortality_cumulative</th>\n",
              "      <th>excess_mortality</th>\n",
              "      <th>excess_mortality_cumulative_per_million</th>\n",
              "    </tr>\n",
              "  </thead>\n",
              "  <tbody>\n",
              "    <tr>\n",
              "      <th>0</th>\n",
              "      <td>AFG</td>\n",
              "      <td>Asia</td>\n",
              "      <td>Afghanistan</td>\n",
              "      <td>2020-02-24</td>\n",
              "      <td>5.0</td>\n",
              "      <td>5.0</td>\n",
              "      <td>NaN</td>\n",
              "      <td>NaN</td>\n",
              "      <td>NaN</td>\n",
              "      <td>NaN</td>\n",
              "      <td>...</td>\n",
              "      <td>NaN</td>\n",
              "      <td>37.746</td>\n",
              "      <td>0.5</td>\n",
              "      <td>64.83</td>\n",
              "      <td>0.511</td>\n",
              "      <td>41128772.0</td>\n",
              "      <td>NaN</td>\n",
              "      <td>NaN</td>\n",
              "      <td>NaN</td>\n",
              "      <td>NaN</td>\n",
              "    </tr>\n",
              "    <tr>\n",
              "      <th>1</th>\n",
              "      <td>AFG</td>\n",
              "      <td>Asia</td>\n",
              "      <td>Afghanistan</td>\n",
              "      <td>2020-02-25</td>\n",
              "      <td>5.0</td>\n",
              "      <td>0.0</td>\n",
              "      <td>NaN</td>\n",
              "      <td>NaN</td>\n",
              "      <td>NaN</td>\n",
              "      <td>NaN</td>\n",
              "      <td>...</td>\n",
              "      <td>NaN</td>\n",
              "      <td>37.746</td>\n",
              "      <td>0.5</td>\n",
              "      <td>64.83</td>\n",
              "      <td>0.511</td>\n",
              "      <td>41128772.0</td>\n",
              "      <td>NaN</td>\n",
              "      <td>NaN</td>\n",
              "      <td>NaN</td>\n",
              "      <td>NaN</td>\n",
              "    </tr>\n",
              "    <tr>\n",
              "      <th>2</th>\n",
              "      <td>AFG</td>\n",
              "      <td>Asia</td>\n",
              "      <td>Afghanistan</td>\n",
              "      <td>2020-02-26</td>\n",
              "      <td>5.0</td>\n",
              "      <td>0.0</td>\n",
              "      <td>NaN</td>\n",
              "      <td>NaN</td>\n",
              "      <td>NaN</td>\n",
              "      <td>NaN</td>\n",
              "      <td>...</td>\n",
              "      <td>NaN</td>\n",
              "      <td>37.746</td>\n",
              "      <td>0.5</td>\n",
              "      <td>64.83</td>\n",
              "      <td>0.511</td>\n",
              "      <td>41128772.0</td>\n",
              "      <td>NaN</td>\n",
              "      <td>NaN</td>\n",
              "      <td>NaN</td>\n",
              "      <td>NaN</td>\n",
              "    </tr>\n",
              "    <tr>\n",
              "      <th>3</th>\n",
              "      <td>AFG</td>\n",
              "      <td>Asia</td>\n",
              "      <td>Afghanistan</td>\n",
              "      <td>2020-02-27</td>\n",
              "      <td>5.0</td>\n",
              "      <td>0.0</td>\n",
              "      <td>NaN</td>\n",
              "      <td>NaN</td>\n",
              "      <td>NaN</td>\n",
              "      <td>NaN</td>\n",
              "      <td>...</td>\n",
              "      <td>NaN</td>\n",
              "      <td>37.746</td>\n",
              "      <td>0.5</td>\n",
              "      <td>64.83</td>\n",
              "      <td>0.511</td>\n",
              "      <td>41128772.0</td>\n",
              "      <td>NaN</td>\n",
              "      <td>NaN</td>\n",
              "      <td>NaN</td>\n",
              "      <td>NaN</td>\n",
              "    </tr>\n",
              "    <tr>\n",
              "      <th>4</th>\n",
              "      <td>AFG</td>\n",
              "      <td>Asia</td>\n",
              "      <td>Afghanistan</td>\n",
              "      <td>2020-02-28</td>\n",
              "      <td>5.0</td>\n",
              "      <td>0.0</td>\n",
              "      <td>NaN</td>\n",
              "      <td>NaN</td>\n",
              "      <td>NaN</td>\n",
              "      <td>NaN</td>\n",
              "      <td>...</td>\n",
              "      <td>NaN</td>\n",
              "      <td>37.746</td>\n",
              "      <td>0.5</td>\n",
              "      <td>64.83</td>\n",
              "      <td>0.511</td>\n",
              "      <td>41128772.0</td>\n",
              "      <td>NaN</td>\n",
              "      <td>NaN</td>\n",
              "      <td>NaN</td>\n",
              "      <td>NaN</td>\n",
              "    </tr>\n",
              "  </tbody>\n",
              "</table>\n",
              "<p>5 rows × 67 columns</p>\n",
              "</div>\n",
              "      <button class=\"colab-df-convert\" onclick=\"convertToInteractive('df-336f89ba-f31e-41f2-89aa-47e5add47151')\"\n",
              "              title=\"Convert this dataframe to an interactive table.\"\n",
              "              style=\"display:none;\">\n",
              "        \n",
              "  <svg xmlns=\"http://www.w3.org/2000/svg\" height=\"24px\"viewBox=\"0 0 24 24\"\n",
              "       width=\"24px\">\n",
              "    <path d=\"M0 0h24v24H0V0z\" fill=\"none\"/>\n",
              "    <path d=\"M18.56 5.44l.94 2.06.94-2.06 2.06-.94-2.06-.94-.94-2.06-.94 2.06-2.06.94zm-11 1L8.5 8.5l.94-2.06 2.06-.94-2.06-.94L8.5 2.5l-.94 2.06-2.06.94zm10 10l.94 2.06.94-2.06 2.06-.94-2.06-.94-.94-2.06-.94 2.06-2.06.94z\"/><path d=\"M17.41 7.96l-1.37-1.37c-.4-.4-.92-.59-1.43-.59-.52 0-1.04.2-1.43.59L10.3 9.45l-7.72 7.72c-.78.78-.78 2.05 0 2.83L4 21.41c.39.39.9.59 1.41.59.51 0 1.02-.2 1.41-.59l7.78-7.78 2.81-2.81c.8-.78.8-2.07 0-2.86zM5.41 20L4 18.59l7.72-7.72 1.47 1.35L5.41 20z\"/>\n",
              "  </svg>\n",
              "      </button>\n",
              "      \n",
              "  <style>\n",
              "    .colab-df-container {\n",
              "      display:flex;\n",
              "      flex-wrap:wrap;\n",
              "      gap: 12px;\n",
              "    }\n",
              "\n",
              "    .colab-df-convert {\n",
              "      background-color: #E8F0FE;\n",
              "      border: none;\n",
              "      border-radius: 50%;\n",
              "      cursor: pointer;\n",
              "      display: none;\n",
              "      fill: #1967D2;\n",
              "      height: 32px;\n",
              "      padding: 0 0 0 0;\n",
              "      width: 32px;\n",
              "    }\n",
              "\n",
              "    .colab-df-convert:hover {\n",
              "      background-color: #E2EBFA;\n",
              "      box-shadow: 0px 1px 2px rgba(60, 64, 67, 0.3), 0px 1px 3px 1px rgba(60, 64, 67, 0.15);\n",
              "      fill: #174EA6;\n",
              "    }\n",
              "\n",
              "    [theme=dark] .colab-df-convert {\n",
              "      background-color: #3B4455;\n",
              "      fill: #D2E3FC;\n",
              "    }\n",
              "\n",
              "    [theme=dark] .colab-df-convert:hover {\n",
              "      background-color: #434B5C;\n",
              "      box-shadow: 0px 1px 3px 1px rgba(0, 0, 0, 0.15);\n",
              "      filter: drop-shadow(0px 1px 2px rgba(0, 0, 0, 0.3));\n",
              "      fill: #FFFFFF;\n",
              "    }\n",
              "  </style>\n",
              "\n",
              "      <script>\n",
              "        const buttonEl =\n",
              "          document.querySelector('#df-336f89ba-f31e-41f2-89aa-47e5add47151 button.colab-df-convert');\n",
              "        buttonEl.style.display =\n",
              "          google.colab.kernel.accessAllowed ? 'block' : 'none';\n",
              "\n",
              "        async function convertToInteractive(key) {\n",
              "          const element = document.querySelector('#df-336f89ba-f31e-41f2-89aa-47e5add47151');\n",
              "          const dataTable =\n",
              "            await google.colab.kernel.invokeFunction('convertToInteractive',\n",
              "                                                     [key], {});\n",
              "          if (!dataTable) return;\n",
              "\n",
              "          const docLinkHtml = 'Like what you see? Visit the ' +\n",
              "            '<a target=\"_blank\" href=https://colab.research.google.com/notebooks/data_table.ipynb>data table notebook</a>'\n",
              "            + ' to learn more about interactive tables.';\n",
              "          element.innerHTML = '';\n",
              "          dataTable['output_type'] = 'display_data';\n",
              "          await google.colab.output.renderOutput(dataTable, element);\n",
              "          const docLink = document.createElement('div');\n",
              "          docLink.innerHTML = docLinkHtml;\n",
              "          element.appendChild(docLink);\n",
              "        }\n",
              "      </script>\n",
              "    </div>\n",
              "  </div>\n",
              "  "
            ]
          },
          "metadata": {},
          "execution_count": 5
        }
      ],
      "source": [
        "df.head(5)"
      ]
    },
    {
      "cell_type": "code",
      "execution_count": 6,
      "metadata": {
        "colab": {
          "base_uri": "https://localhost:8080/"
        },
        "id": "oCH7YMISuDrx",
        "outputId": "8db99f65-6c1d-4c22-8d92-567b6c45d2df"
      },
      "outputs": [
        {
          "output_type": "execute_result",
          "data": {
            "text/plain": [
              "iso_code                                        0\n",
              "continent                                   14688\n",
              "location                                        0\n",
              "date                                            0\n",
              "total_cases                                 14548\n",
              "                                            ...  \n",
              "population                                   1122\n",
              "excess_mortality_cumulative_absolute       252923\n",
              "excess_mortality_cumulative                252923\n",
              "excess_mortality                           252923\n",
              "excess_mortality_cumulative_per_million    252923\n",
              "Length: 67, dtype: int64"
            ]
          },
          "metadata": {},
          "execution_count": 6
        }
      ],
      "source": [
        "#remove all null values\n",
        "df.isnull().sum()"
      ]
    },
    {
      "cell_type": "code",
      "execution_count": 7,
      "metadata": {
        "id": "joxUahrZ5Z7A"
      },
      "outputs": [],
      "source": [
        "df1 = df.dropna()"
      ]
    },
    {
      "cell_type": "code",
      "execution_count": 8,
      "metadata": {
        "colab": {
          "base_uri": "https://localhost:8080/"
        },
        "id": "65WYLkFk5w-p",
        "outputId": "ca1a6902-0654-4827-da61-4f8a7cc5df14"
      },
      "outputs": [
        {
          "output_type": "stream",
          "name": "stdout",
          "text": [
            "Empty DataFrame\n",
            "Columns: [iso_code, continent, location, date, total_cases, new_cases, new_cases_smoothed, total_deaths, new_deaths, new_deaths_smoothed, total_cases_per_million, new_cases_per_million, new_cases_smoothed_per_million, total_deaths_per_million, new_deaths_per_million, new_deaths_smoothed_per_million, reproduction_rate, icu_patients, icu_patients_per_million, hosp_patients, hosp_patients_per_million, weekly_icu_admissions, weekly_icu_admissions_per_million, weekly_hosp_admissions, weekly_hosp_admissions_per_million, total_tests, new_tests, total_tests_per_thousand, new_tests_per_thousand, new_tests_smoothed, new_tests_smoothed_per_thousand, positive_rate, tests_per_case, tests_units, total_vaccinations, people_vaccinated, people_fully_vaccinated, total_boosters, new_vaccinations, new_vaccinations_smoothed, total_vaccinations_per_hundred, people_vaccinated_per_hundred, people_fully_vaccinated_per_hundred, total_boosters_per_hundred, new_vaccinations_smoothed_per_million, new_people_vaccinated_smoothed, new_people_vaccinated_smoothed_per_hundred, stringency_index, population_density, median_age, aged_65_older, aged_70_older, gdp_per_capita, extreme_poverty, cardiovasc_death_rate, diabetes_prevalence, female_smokers, male_smokers, handwashing_facilities, hospital_beds_per_thousand, life_expectancy, human_development_index, population, excess_mortality_cumulative_absolute, excess_mortality_cumulative, excess_mortality, excess_mortality_cumulative_per_million]\n",
            "Index: []\n",
            "\n",
            "[0 rows x 67 columns]\n"
          ]
        }
      ],
      "source": [
        "print(df1)"
      ]
    },
    {
      "cell_type": "code",
      "execution_count": 9,
      "metadata": {
        "id": "90fWs6T_AGAO"
      },
      "outputs": [],
      "source": [
        "continent = df.groupby(\"continent\")"
      ]
    },
    {
      "cell_type": "code",
      "execution_count": 10,
      "metadata": {
        "id": "feOZkb4bBM3q",
        "colab": {
          "base_uri": "https://localhost:8080/"
        },
        "outputId": "19b0a557-7cc1-4f0a-acda-b0134654f81a"
      },
      "outputs": [
        {
          "output_type": "stream",
          "name": "stdout",
          "text": [
            "<pandas.core.groupby.generic.DataFrameGroupBy object at 0x7fc60c43c430>\n"
          ]
        }
      ],
      "source": [
        "print(continent)"
      ]
    },
    {
      "cell_type": "code",
      "execution_count": 11,
      "metadata": {
        "colab": {
          "base_uri": "https://localhost:8080/"
        },
        "id": "bpuvTX9psJj5",
        "outputId": "e7edb0d0-ab15-4cbc-f103-b4c4ba7d8234"
      },
      "outputs": [
        {
          "output_type": "stream",
          "name": "stdout",
          "text": [
            "<class 'pandas.core.frame.DataFrame'>\n",
            "RangeIndex: 261730 entries, 0 to 261729\n",
            "Data columns (total 67 columns):\n",
            " #   Column                                      Non-Null Count   Dtype  \n",
            "---  ------                                      --------------   -----  \n",
            " 0   iso_code                                    261730 non-null  object \n",
            " 1   continent                                   247042 non-null  object \n",
            " 2   location                                    261730 non-null  object \n",
            " 3   date                                        261730 non-null  object \n",
            " 4   total_cases                                 247182 non-null  float64\n",
            " 5   new_cases                                   246860 non-null  float64\n",
            " 6   new_cases_smoothed                          245656 non-null  float64\n",
            " 7   total_deaths                                227457 non-null  float64\n",
            " 8   new_deaths                                  227368 non-null  float64\n",
            " 9   new_deaths_smoothed                         226182 non-null  float64\n",
            " 10  total_cases_per_million                     246060 non-null  float64\n",
            " 11  new_cases_per_million                       245738 non-null  float64\n",
            " 12  new_cases_smoothed_per_million              244539 non-null  float64\n",
            " 13  total_deaths_per_million                    226348 non-null  float64\n",
            " 14  new_deaths_per_million                      226259 non-null  float64\n",
            " 15  new_deaths_smoothed_per_million             225078 non-null  float64\n",
            " 16  reproduction_rate                           184817 non-null  float64\n",
            " 17  icu_patients                                33307 non-null   float64\n",
            " 18  icu_patients_per_million                    33307 non-null   float64\n",
            " 19  hosp_patients                               36158 non-null   float64\n",
            " 20  hosp_patients_per_million                   36158 non-null   float64\n",
            " 21  weekly_icu_admissions                       8766 non-null    float64\n",
            " 22  weekly_icu_admissions_per_million           8766 non-null    float64\n",
            " 23  weekly_hosp_admissions                      20678 non-null   float64\n",
            " 24  weekly_hosp_admissions_per_million          20678 non-null   float64\n",
            " 25  total_tests                                 79387 non-null   float64\n",
            " 26  new_tests                                   75403 non-null   float64\n",
            " 27  total_tests_per_thousand                    79387 non-null   float64\n",
            " 28  new_tests_per_thousand                      75403 non-null   float64\n",
            " 29  new_tests_smoothed                          103965 non-null  float64\n",
            " 30  new_tests_smoothed_per_thousand             103965 non-null  float64\n",
            " 31  positive_rate                               95927 non-null   float64\n",
            " 32  tests_per_case                              94348 non-null   float64\n",
            " 33  tests_units                                 106788 non-null  object \n",
            " 34  total_vaccinations                          72453 non-null   float64\n",
            " 35  people_vaccinated                           69351 non-null   float64\n",
            " 36  people_fully_vaccinated                     67018 non-null   float64\n",
            " 37  total_boosters                              41192 non-null   float64\n",
            " 38  new_vaccinations                            59891 non-null   float64\n",
            " 39  new_vaccinations_smoothed                   157511 non-null  float64\n",
            " 40  total_vaccinations_per_hundred              72453 non-null   float64\n",
            " 41  people_vaccinated_per_hundred               69351 non-null   float64\n",
            " 42  people_fully_vaccinated_per_hundred         67018 non-null   float64\n",
            " 43  total_boosters_per_hundred                  41192 non-null   float64\n",
            " 44  new_vaccinations_smoothed_per_million       157511 non-null  float64\n",
            " 45  new_people_vaccinated_smoothed              157437 non-null  float64\n",
            " 46  new_people_vaccinated_smoothed_per_hundred  157437 non-null  float64\n",
            " 47  stringency_index                            185194 non-null  float64\n",
            " 48  population_density                          228173 non-null  float64\n",
            " 49  median_age                                  210939 non-null  float64\n",
            " 50  aged_65_older                               208716 non-null  float64\n",
            " 51  aged_70_older                               209836 non-null  float64\n",
            " 52  gdp_per_capita                              210736 non-null  float64\n",
            " 53  extreme_poverty                             137188 non-null  float64\n",
            " 54  cardiovasc_death_rate                       210305 non-null  float64\n",
            " 55  diabetes_prevalence                         221414 non-null  float64\n",
            " 56  female_smokers                              159578 non-null  float64\n",
            " 57  male_smokers                                157395 non-null  float64\n",
            " 58  handwashing_facilities                      103780 non-null  float64\n",
            " 59  hospital_beds_per_thousand                  187588 non-null  float64\n",
            " 60  life_expectancy                             240265 non-null  float64\n",
            " 61  human_development_index                     205659 non-null  float64\n",
            " 62  population                                  260608 non-null  float64\n",
            " 63  excess_mortality_cumulative_absolute        8807 non-null    float64\n",
            " 64  excess_mortality_cumulative                 8807 non-null    float64\n",
            " 65  excess_mortality                            8807 non-null    float64\n",
            " 66  excess_mortality_cumulative_per_million     8807 non-null    float64\n",
            "dtypes: float64(62), object(5)\n",
            "memory usage: 133.8+ MB\n"
          ]
        }
      ],
      "source": [
        "#basic information\n",
        "df.info()"
      ]
    },
    {
      "cell_type": "code",
      "execution_count": 12,
      "metadata": {
        "id": "ek2kffUBsOZK",
        "colab": {
          "base_uri": "https://localhost:8080/",
          "height": 296
        },
        "outputId": "70bf9629-ba4b-4f85-fa01-d50daf434194"
      },
      "outputs": [
        {
          "output_type": "execute_result",
          "data": {
            "text/plain": [
              "        total_cases     new_cases  new_cases_smoothed  total_deaths  \\\n",
              "count  2.471820e+05  2.468600e+05        2.456560e+05  2.274570e+05   \n",
              "mean   5.384986e+06  1.167321e+04        1.172018e+04  8.052034e+04   \n",
              "std    3.304079e+07  8.156610e+04        7.929066e+04  4.098317e+05   \n",
              "min    1.000000e+00  0.000000e+00        0.000000e+00  1.000000e+00   \n",
              "25%    5.883000e+03  0.000000e+00        4.286000e+00  1.250000e+02   \n",
              "50%    6.271950e+04  3.500000e+01        7.542900e+01  1.365000e+03   \n",
              "75%    6.548138e+05  8.040000e+02        9.853217e+02  1.111000e+04   \n",
              "max    6.758607e+08  4.082893e+06        3.436564e+06  6.876859e+06   \n",
              "\n",
              "          new_deaths  new_deaths_smoothed  total_cases_per_million  \\\n",
              "count  227368.000000        226182.000000            246060.000000   \n",
              "mean      125.673397           126.234794             75083.484988   \n",
              "std       732.523501           679.000930            125962.151825   \n",
              "min         0.000000             0.000000                 0.001000   \n",
              "25%         0.000000             0.000000              1412.013500   \n",
              "50%         0.000000             1.143000             14308.708500   \n",
              "75%        11.000000            13.143000             89351.666000   \n",
              "max     60902.000000         14860.286000            726205.264000   \n",
              "\n",
              "       new_cases_per_million  new_cases_smoothed_per_million  \\\n",
              "count          245738.000000                   244539.000000   \n",
              "mean              175.987819                      176.583097   \n",
              "std              1120.504085                      663.428730   \n",
              "min                 0.000000                        0.000000   \n",
              "25%                 0.000000                        0.872000   \n",
              "50%                 4.500000                       15.659000   \n",
              "75%                82.212000                      121.001500   \n",
              "max            228872.025000                    36421.827000   \n",
              "\n",
              "       total_deaths_per_million  ...   male_smokers  handwashing_facilities  \\\n",
              "count             226348.000000  ...  157395.000000           103780.000000   \n",
              "mean                 760.064887  ...      32.821984               50.889167   \n",
              "std                 1034.865353  ...      13.539671               31.881922   \n",
              "min                    0.000000  ...       7.700000                1.188000   \n",
              "25%                   34.921000  ...      21.600000               20.859000   \n",
              "50%                  253.791000  ...      33.100000               49.839000   \n",
              "75%                 1152.243000  ...      41.300000               83.241000   \n",
              "max                 6446.040000  ...      78.100000              100.000000   \n",
              "\n",
              "       hospital_beds_per_thousand  life_expectancy  human_development_index  \\\n",
              "count               187588.000000    240265.000000            205659.000000   \n",
              "mean                     3.088983        73.595397                 0.724512   \n",
              "std                      2.551279         7.446593                 0.149552   \n",
              "min                      0.100000        53.280000                 0.394000   \n",
              "25%                      1.300000        69.500000                 0.602000   \n",
              "50%                      2.500000        75.050000                 0.742000   \n",
              "75%                      4.200000        79.070000                 0.838000   \n",
              "max                     13.800000        86.750000                 0.957000   \n",
              "\n",
              "         population  excess_mortality_cumulative_absolute  \\\n",
              "count  2.606080e+05                          8.807000e+03   \n",
              "mean   1.405100e+08                          5.315074e+04   \n",
              "std    6.915909e+08                          1.444128e+05   \n",
              "min    4.700000e+01                         -3.772610e+04   \n",
              "25%    8.367830e+05                          9.625000e+01   \n",
              "50%    6.948395e+06                          7.425699e+03   \n",
              "75%    3.369661e+07                          3.845240e+04   \n",
              "max    7.975105e+09                          1.273323e+06   \n",
              "\n",
              "       excess_mortality_cumulative  excess_mortality  \\\n",
              "count                  8807.000000       8807.000000   \n",
              "mean                     10.310701         13.967308   \n",
              "std                      13.129721         25.736074   \n",
              "min                     -28.450000        -95.920000   \n",
              "25%                       1.080000          0.110000   \n",
              "50%                       8.030000          7.540000   \n",
              "75%                      16.240000         19.065000   \n",
              "max                      76.550000        376.770000   \n",
              "\n",
              "       excess_mortality_cumulative_per_million  \n",
              "count                              8807.000000  \n",
              "mean                               1524.602805  \n",
              "std                                1856.357022  \n",
              "min                               -1984.281600  \n",
              "25%                                  57.300138  \n",
              "50%                                 953.884640  \n",
              "75%                                2453.471550  \n",
              "max                               10251.770000  \n",
              "\n",
              "[8 rows x 62 columns]"
            ],
            "text/html": [
              "\n",
              "  <div id=\"df-d099a891-82e6-4745-abf1-1889418200a4\">\n",
              "    <div class=\"colab-df-container\">\n",
              "      <div>\n",
              "<style scoped>\n",
              "    .dataframe tbody tr th:only-of-type {\n",
              "        vertical-align: middle;\n",
              "    }\n",
              "\n",
              "    .dataframe tbody tr th {\n",
              "        vertical-align: top;\n",
              "    }\n",
              "\n",
              "    .dataframe thead th {\n",
              "        text-align: right;\n",
              "    }\n",
              "</style>\n",
              "<table border=\"1\" class=\"dataframe\">\n",
              "  <thead>\n",
              "    <tr style=\"text-align: right;\">\n",
              "      <th></th>\n",
              "      <th>total_cases</th>\n",
              "      <th>new_cases</th>\n",
              "      <th>new_cases_smoothed</th>\n",
              "      <th>total_deaths</th>\n",
              "      <th>new_deaths</th>\n",
              "      <th>new_deaths_smoothed</th>\n",
              "      <th>total_cases_per_million</th>\n",
              "      <th>new_cases_per_million</th>\n",
              "      <th>new_cases_smoothed_per_million</th>\n",
              "      <th>total_deaths_per_million</th>\n",
              "      <th>...</th>\n",
              "      <th>male_smokers</th>\n",
              "      <th>handwashing_facilities</th>\n",
              "      <th>hospital_beds_per_thousand</th>\n",
              "      <th>life_expectancy</th>\n",
              "      <th>human_development_index</th>\n",
              "      <th>population</th>\n",
              "      <th>excess_mortality_cumulative_absolute</th>\n",
              "      <th>excess_mortality_cumulative</th>\n",
              "      <th>excess_mortality</th>\n",
              "      <th>excess_mortality_cumulative_per_million</th>\n",
              "    </tr>\n",
              "  </thead>\n",
              "  <tbody>\n",
              "    <tr>\n",
              "      <th>count</th>\n",
              "      <td>2.471820e+05</td>\n",
              "      <td>2.468600e+05</td>\n",
              "      <td>2.456560e+05</td>\n",
              "      <td>2.274570e+05</td>\n",
              "      <td>227368.000000</td>\n",
              "      <td>226182.000000</td>\n",
              "      <td>246060.000000</td>\n",
              "      <td>245738.000000</td>\n",
              "      <td>244539.000000</td>\n",
              "      <td>226348.000000</td>\n",
              "      <td>...</td>\n",
              "      <td>157395.000000</td>\n",
              "      <td>103780.000000</td>\n",
              "      <td>187588.000000</td>\n",
              "      <td>240265.000000</td>\n",
              "      <td>205659.000000</td>\n",
              "      <td>2.606080e+05</td>\n",
              "      <td>8.807000e+03</td>\n",
              "      <td>8807.000000</td>\n",
              "      <td>8807.000000</td>\n",
              "      <td>8807.000000</td>\n",
              "    </tr>\n",
              "    <tr>\n",
              "      <th>mean</th>\n",
              "      <td>5.384986e+06</td>\n",
              "      <td>1.167321e+04</td>\n",
              "      <td>1.172018e+04</td>\n",
              "      <td>8.052034e+04</td>\n",
              "      <td>125.673397</td>\n",
              "      <td>126.234794</td>\n",
              "      <td>75083.484988</td>\n",
              "      <td>175.987819</td>\n",
              "      <td>176.583097</td>\n",
              "      <td>760.064887</td>\n",
              "      <td>...</td>\n",
              "      <td>32.821984</td>\n",
              "      <td>50.889167</td>\n",
              "      <td>3.088983</td>\n",
              "      <td>73.595397</td>\n",
              "      <td>0.724512</td>\n",
              "      <td>1.405100e+08</td>\n",
              "      <td>5.315074e+04</td>\n",
              "      <td>10.310701</td>\n",
              "      <td>13.967308</td>\n",
              "      <td>1524.602805</td>\n",
              "    </tr>\n",
              "    <tr>\n",
              "      <th>std</th>\n",
              "      <td>3.304079e+07</td>\n",
              "      <td>8.156610e+04</td>\n",
              "      <td>7.929066e+04</td>\n",
              "      <td>4.098317e+05</td>\n",
              "      <td>732.523501</td>\n",
              "      <td>679.000930</td>\n",
              "      <td>125962.151825</td>\n",
              "      <td>1120.504085</td>\n",
              "      <td>663.428730</td>\n",
              "      <td>1034.865353</td>\n",
              "      <td>...</td>\n",
              "      <td>13.539671</td>\n",
              "      <td>31.881922</td>\n",
              "      <td>2.551279</td>\n",
              "      <td>7.446593</td>\n",
              "      <td>0.149552</td>\n",
              "      <td>6.915909e+08</td>\n",
              "      <td>1.444128e+05</td>\n",
              "      <td>13.129721</td>\n",
              "      <td>25.736074</td>\n",
              "      <td>1856.357022</td>\n",
              "    </tr>\n",
              "    <tr>\n",
              "      <th>min</th>\n",
              "      <td>1.000000e+00</td>\n",
              "      <td>0.000000e+00</td>\n",
              "      <td>0.000000e+00</td>\n",
              "      <td>1.000000e+00</td>\n",
              "      <td>0.000000</td>\n",
              "      <td>0.000000</td>\n",
              "      <td>0.001000</td>\n",
              "      <td>0.000000</td>\n",
              "      <td>0.000000</td>\n",
              "      <td>0.000000</td>\n",
              "      <td>...</td>\n",
              "      <td>7.700000</td>\n",
              "      <td>1.188000</td>\n",
              "      <td>0.100000</td>\n",
              "      <td>53.280000</td>\n",
              "      <td>0.394000</td>\n",
              "      <td>4.700000e+01</td>\n",
              "      <td>-3.772610e+04</td>\n",
              "      <td>-28.450000</td>\n",
              "      <td>-95.920000</td>\n",
              "      <td>-1984.281600</td>\n",
              "    </tr>\n",
              "    <tr>\n",
              "      <th>25%</th>\n",
              "      <td>5.883000e+03</td>\n",
              "      <td>0.000000e+00</td>\n",
              "      <td>4.286000e+00</td>\n",
              "      <td>1.250000e+02</td>\n",
              "      <td>0.000000</td>\n",
              "      <td>0.000000</td>\n",
              "      <td>1412.013500</td>\n",
              "      <td>0.000000</td>\n",
              "      <td>0.872000</td>\n",
              "      <td>34.921000</td>\n",
              "      <td>...</td>\n",
              "      <td>21.600000</td>\n",
              "      <td>20.859000</td>\n",
              "      <td>1.300000</td>\n",
              "      <td>69.500000</td>\n",
              "      <td>0.602000</td>\n",
              "      <td>8.367830e+05</td>\n",
              "      <td>9.625000e+01</td>\n",
              "      <td>1.080000</td>\n",
              "      <td>0.110000</td>\n",
              "      <td>57.300138</td>\n",
              "    </tr>\n",
              "    <tr>\n",
              "      <th>50%</th>\n",
              "      <td>6.271950e+04</td>\n",
              "      <td>3.500000e+01</td>\n",
              "      <td>7.542900e+01</td>\n",
              "      <td>1.365000e+03</td>\n",
              "      <td>0.000000</td>\n",
              "      <td>1.143000</td>\n",
              "      <td>14308.708500</td>\n",
              "      <td>4.500000</td>\n",
              "      <td>15.659000</td>\n",
              "      <td>253.791000</td>\n",
              "      <td>...</td>\n",
              "      <td>33.100000</td>\n",
              "      <td>49.839000</td>\n",
              "      <td>2.500000</td>\n",
              "      <td>75.050000</td>\n",
              "      <td>0.742000</td>\n",
              "      <td>6.948395e+06</td>\n",
              "      <td>7.425699e+03</td>\n",
              "      <td>8.030000</td>\n",
              "      <td>7.540000</td>\n",
              "      <td>953.884640</td>\n",
              "    </tr>\n",
              "    <tr>\n",
              "      <th>75%</th>\n",
              "      <td>6.548138e+05</td>\n",
              "      <td>8.040000e+02</td>\n",
              "      <td>9.853217e+02</td>\n",
              "      <td>1.111000e+04</td>\n",
              "      <td>11.000000</td>\n",
              "      <td>13.143000</td>\n",
              "      <td>89351.666000</td>\n",
              "      <td>82.212000</td>\n",
              "      <td>121.001500</td>\n",
              "      <td>1152.243000</td>\n",
              "      <td>...</td>\n",
              "      <td>41.300000</td>\n",
              "      <td>83.241000</td>\n",
              "      <td>4.200000</td>\n",
              "      <td>79.070000</td>\n",
              "      <td>0.838000</td>\n",
              "      <td>3.369661e+07</td>\n",
              "      <td>3.845240e+04</td>\n",
              "      <td>16.240000</td>\n",
              "      <td>19.065000</td>\n",
              "      <td>2453.471550</td>\n",
              "    </tr>\n",
              "    <tr>\n",
              "      <th>max</th>\n",
              "      <td>6.758607e+08</td>\n",
              "      <td>4.082893e+06</td>\n",
              "      <td>3.436564e+06</td>\n",
              "      <td>6.876859e+06</td>\n",
              "      <td>60902.000000</td>\n",
              "      <td>14860.286000</td>\n",
              "      <td>726205.264000</td>\n",
              "      <td>228872.025000</td>\n",
              "      <td>36421.827000</td>\n",
              "      <td>6446.040000</td>\n",
              "      <td>...</td>\n",
              "      <td>78.100000</td>\n",
              "      <td>100.000000</td>\n",
              "      <td>13.800000</td>\n",
              "      <td>86.750000</td>\n",
              "      <td>0.957000</td>\n",
              "      <td>7.975105e+09</td>\n",
              "      <td>1.273323e+06</td>\n",
              "      <td>76.550000</td>\n",
              "      <td>376.770000</td>\n",
              "      <td>10251.770000</td>\n",
              "    </tr>\n",
              "  </tbody>\n",
              "</table>\n",
              "<p>8 rows × 62 columns</p>\n",
              "</div>\n",
              "      <button class=\"colab-df-convert\" onclick=\"convertToInteractive('df-d099a891-82e6-4745-abf1-1889418200a4')\"\n",
              "              title=\"Convert this dataframe to an interactive table.\"\n",
              "              style=\"display:none;\">\n",
              "        \n",
              "  <svg xmlns=\"http://www.w3.org/2000/svg\" height=\"24px\"viewBox=\"0 0 24 24\"\n",
              "       width=\"24px\">\n",
              "    <path d=\"M0 0h24v24H0V0z\" fill=\"none\"/>\n",
              "    <path d=\"M18.56 5.44l.94 2.06.94-2.06 2.06-.94-2.06-.94-.94-2.06-.94 2.06-2.06.94zm-11 1L8.5 8.5l.94-2.06 2.06-.94-2.06-.94L8.5 2.5l-.94 2.06-2.06.94zm10 10l.94 2.06.94-2.06 2.06-.94-2.06-.94-.94-2.06-.94 2.06-2.06.94z\"/><path d=\"M17.41 7.96l-1.37-1.37c-.4-.4-.92-.59-1.43-.59-.52 0-1.04.2-1.43.59L10.3 9.45l-7.72 7.72c-.78.78-.78 2.05 0 2.83L4 21.41c.39.39.9.59 1.41.59.51 0 1.02-.2 1.41-.59l7.78-7.78 2.81-2.81c.8-.78.8-2.07 0-2.86zM5.41 20L4 18.59l7.72-7.72 1.47 1.35L5.41 20z\"/>\n",
              "  </svg>\n",
              "      </button>\n",
              "      \n",
              "  <style>\n",
              "    .colab-df-container {\n",
              "      display:flex;\n",
              "      flex-wrap:wrap;\n",
              "      gap: 12px;\n",
              "    }\n",
              "\n",
              "    .colab-df-convert {\n",
              "      background-color: #E8F0FE;\n",
              "      border: none;\n",
              "      border-radius: 50%;\n",
              "      cursor: pointer;\n",
              "      display: none;\n",
              "      fill: #1967D2;\n",
              "      height: 32px;\n",
              "      padding: 0 0 0 0;\n",
              "      width: 32px;\n",
              "    }\n",
              "\n",
              "    .colab-df-convert:hover {\n",
              "      background-color: #E2EBFA;\n",
              "      box-shadow: 0px 1px 2px rgba(60, 64, 67, 0.3), 0px 1px 3px 1px rgba(60, 64, 67, 0.15);\n",
              "      fill: #174EA6;\n",
              "    }\n",
              "\n",
              "    [theme=dark] .colab-df-convert {\n",
              "      background-color: #3B4455;\n",
              "      fill: #D2E3FC;\n",
              "    }\n",
              "\n",
              "    [theme=dark] .colab-df-convert:hover {\n",
              "      background-color: #434B5C;\n",
              "      box-shadow: 0px 1px 3px 1px rgba(0, 0, 0, 0.15);\n",
              "      filter: drop-shadow(0px 1px 2px rgba(0, 0, 0, 0.3));\n",
              "      fill: #FFFFFF;\n",
              "    }\n",
              "  </style>\n",
              "\n",
              "      <script>\n",
              "        const buttonEl =\n",
              "          document.querySelector('#df-d099a891-82e6-4745-abf1-1889418200a4 button.colab-df-convert');\n",
              "        buttonEl.style.display =\n",
              "          google.colab.kernel.accessAllowed ? 'block' : 'none';\n",
              "\n",
              "        async function convertToInteractive(key) {\n",
              "          const element = document.querySelector('#df-d099a891-82e6-4745-abf1-1889418200a4');\n",
              "          const dataTable =\n",
              "            await google.colab.kernel.invokeFunction('convertToInteractive',\n",
              "                                                     [key], {});\n",
              "          if (!dataTable) return;\n",
              "\n",
              "          const docLinkHtml = 'Like what you see? Visit the ' +\n",
              "            '<a target=\"_blank\" href=https://colab.research.google.com/notebooks/data_table.ipynb>data table notebook</a>'\n",
              "            + ' to learn more about interactive tables.';\n",
              "          element.innerHTML = '';\n",
              "          dataTable['output_type'] = 'display_data';\n",
              "          await google.colab.output.renderOutput(dataTable, element);\n",
              "          const docLink = document.createElement('div');\n",
              "          docLink.innerHTML = docLinkHtml;\n",
              "          element.appendChild(docLink);\n",
              "        }\n",
              "      </script>\n",
              "    </div>\n",
              "  </div>\n",
              "  "
            ]
          },
          "metadata": {},
          "execution_count": 12
        },
        {
          "output_type": "stream",
          "name": "stdout",
          "text": [
            "Warning: Total number of columns (62) exceeds max_columns (20) limiting to first (20) columns.\n"
          ]
        }
      ],
      "source": [
        "#data types\n",
        "df.describe()"
      ]
    },
    {
      "cell_type": "code",
      "source": [
        "df.isnull().sum()"
      ],
      "metadata": {
        "id": "zc20EunZO4U0",
        "outputId": "75e65376-9718-4af5-a536-39e3d7898d72",
        "colab": {
          "base_uri": "https://localhost:8080/"
        }
      },
      "execution_count": 13,
      "outputs": [
        {
          "output_type": "execute_result",
          "data": {
            "text/plain": [
              "iso_code                                        0\n",
              "continent                                   14688\n",
              "location                                        0\n",
              "date                                            0\n",
              "total_cases                                 14548\n",
              "                                            ...  \n",
              "population                                   1122\n",
              "excess_mortality_cumulative_absolute       252923\n",
              "excess_mortality_cumulative                252923\n",
              "excess_mortality                           252923\n",
              "excess_mortality_cumulative_per_million    252923\n",
              "Length: 67, dtype: int64"
            ]
          },
          "metadata": {},
          "execution_count": 13
        }
      ]
    },
    {
      "cell_type": "code",
      "source": [
        "df[['total_cases']].boxplot"
      ],
      "metadata": {
        "colab": {
          "base_uri": "https://localhost:8080/"
        },
        "id": "zk755XxJEBac",
        "outputId": "f4b330c2-4143-475e-d521-c3c20c30cc6f"
      },
      "execution_count": 14,
      "outputs": [
        {
          "output_type": "execute_result",
          "data": {
            "text/plain": [
              "<bound method boxplot_frame of         total_cases\n",
              "0               5.0\n",
              "1               5.0\n",
              "2               5.0\n",
              "3               5.0\n",
              "4               5.0\n",
              "...             ...\n",
              "261725     263921.0\n",
              "261726     264127.0\n",
              "261727     264127.0\n",
              "261728     264127.0\n",
              "261729     264127.0\n",
              "\n",
              "[261730 rows x 1 columns]>"
            ]
          },
          "metadata": {},
          "execution_count": 14
        }
      ]
    },
    {
      "cell_type": "code",
      "source": [
        "#correlation plot using Seaborn\n",
        "sns.heatmap(df.corr())"
      ],
      "metadata": {
        "colab": {
          "base_uri": "https://localhost:8080/",
          "height": 778
        },
        "id": "CJxYq5QVE14K",
        "outputId": "da8038f4-7fcd-4382-dfe2-276a7b061840"
      },
      "execution_count": 18,
      "outputs": [
        {
          "output_type": "display_data",
          "data": {
            "text/plain": [
              "<IPython.core.display.Javascript object>"
            ],
            "application/javascript": [
              "\n",
              "        if (window._pyforest_update_imports_cell) { window._pyforest_update_imports_cell('from sklearn.linear_model import ElasticNetCV\\nfrom statsmodels.tsa.arima_model import ARIMA\\nfrom sklearn.feature_extraction.text import CountVectorizer\\nimport torch\\nfrom sklearn.model_selection import GridSearchCV\\nimport textblob\\nfrom sklearn.ensemble import GradientBoostingRegressor\\nimport tqdm\\nfrom sklearn.linear_model import ElasticNet\\nimport bokeh\\nimport tensorflow as tf\\nfrom sklearn.ensemble import GradientBoostingClassifier\\nimport seaborn as sns\\nfrom sklearn.model_selection import train_test_split'); }\n",
              "    "
            ]
          },
          "metadata": {}
        },
        {
          "output_type": "stream",
          "name": "stderr",
          "text": [
            "<ipython-input-18-abaa1a932d16>:2: FutureWarning: The default value of numeric_only in DataFrame.corr is deprecated. In a future version, it will default to False. Select only valid columns or specify the value of numeric_only to silence this warning.\n",
            "  sns.heatmap(df.corr())\n"
          ]
        },
        {
          "output_type": "execute_result",
          "data": {
            "text/plain": [
              "<Axes: >"
            ]
          },
          "metadata": {},
          "execution_count": 18
        },
        {
          "output_type": "display_data",
          "data": {
            "text/plain": [
              "<Figure size 640x480 with 2 Axes>"
            ],
            "image/png": "[encoded data removed]"
          },
          "metadata": {}
        }
      ]
    },
    {
      "cell_type": "code",
      "source": [
        "# Import necessary libraries\n",
        "import pandas as pd\n",
        "import numpy as np\n",
        "from sklearn.model_selection import train_test_split\n",
        "from sklearn.linear_model import LogisticRegression"
      ],
      "metadata": {
        "id": "jh8-l-nAKY9W"
      },
      "execution_count": 19,
      "outputs": []
    },
    {
      "cell_type": "code",
      "source": [
        "# Define the target variable and the features\n",
        "target = 'total_deaths'\n",
        "features = ['total_cases', 'new_cases', 'new_cases_smoothed', 'total_cases_per_million', \n",
        "            'new_cases_per_million', 'new_cases_smoothed_per_million', 'total_deaths_per_million',\n",
        "            'new_deaths_per_million', 'new_deaths_smoothed_per_million', 'icu_patients',\n",
        "            'icu_patients_per_million', 'hosp_patients', 'hosp_patients_per_million',\n",
        "            'weekly_icu_admissions', 'weekly_icu_admissions_per_million', 'weekly_hosp_admissions']"
      ],
      "metadata": {
        "id": "WDxp5iYzLroA"
      },
      "execution_count": 20,
      "outputs": []
    },
    {
      "cell_type": "code",
      "source": [
        "# Drop the samples with missing values\n",
        "df.dropna(inplace=True)\n",
        "\n",
        "# Split the data into training and testing sets\n",
        "X_train, X_test, y_train, y_test = train_test_split(df.drop('total_deaths', axis=1), df['total_deaths'], test_size=0.3, random_state=42)\n",
        "\n",
        "# Train the model on the training data\n",
        "model.fit(X_train, y_train)\n",
        "\n",
        "# Make predictions on the testing data\n",
        "y_pred = model.predict(X_test)"
      ],
      "metadata": {
        "colab": {
          "base_uri": "https://localhost:8080/",
          "height": 394
        },
        "id": "-Tt_2kCQMbfd",
        "outputId": "d1b2462c-21b3-462f-f4ae-10b8e3b8eb30"
      },
      "execution_count": 27,
      "outputs": [
        {
          "output_type": "error",
          "ename": "ValueError",
          "evalue": "ignored",
          "traceback": [
            "\u001b[0;31m---------------------------------------------------------------------------\u001b[0m",
            "\u001b[0;31mValueError\u001b[0m                                Traceback (most recent call last)",
            "\u001b[0;32m/usr/local/lib/python3.9/dist-packages/pyforest/__init__.py\u001b[0m in \u001b[0;36m<cell line: 5>\u001b[0;34m()\u001b[0m\n\u001b[1;32m      3\u001b[0m \u001b[0;34m\u001b[0m\u001b[0m\n\u001b[1;32m      4\u001b[0m \u001b[0;31m# Split the data into training and testing sets\u001b[0m\u001b[0;34m\u001b[0m\u001b[0;34m\u001b[0m\u001b[0m\n\u001b[0;32m----> 5\u001b[0;31m \u001b[0mX_train\u001b[0m\u001b[0;34m,\u001b[0m \u001b[0mX_test\u001b[0m\u001b[0;34m,\u001b[0m \u001b[0my_train\u001b[0m\u001b[0;34m,\u001b[0m \u001b[0my_test\u001b[0m \u001b[0;34m=\u001b[0m \u001b[0mtrain_test_split\u001b[0m\u001b[0;34m(\u001b[0m\u001b[0mdf\u001b[0m\u001b[0;34m.\u001b[0m\u001b[0mdrop\u001b[0m\u001b[0;34m(\u001b[0m\u001b[0;34m'total_deaths'\u001b[0m\u001b[0;34m,\u001b[0m \u001b[0maxis\u001b[0m\u001b[0;34m=\u001b[0m\u001b[0;36m1\u001b[0m\u001b[0;34m)\u001b[0m\u001b[0;34m,\u001b[0m \u001b[0mdf\u001b[0m\u001b[0;34m[\u001b[0m\u001b[0;34m'total_deaths'\u001b[0m\u001b[0;34m]\u001b[0m\u001b[0;34m,\u001b[0m \u001b[0mtest_size\u001b[0m\u001b[0;34m=\u001b[0m\u001b[0;36m0.3\u001b[0m\u001b[0;34m,\u001b[0m \u001b[0mrandom_state\u001b[0m\u001b[0;34m=\u001b[0m\u001b[0;36m42\u001b[0m\u001b[0;34m)\u001b[0m\u001b[0;34m\u001b[0m\u001b[0;34m\u001b[0m\u001b[0m\n\u001b[0m\u001b[1;32m      6\u001b[0m \u001b[0;34m\u001b[0m\u001b[0m\n\u001b[1;32m      7\u001b[0m \u001b[0;31m# Train the model on the training data\u001b[0m\u001b[0;34m\u001b[0m\u001b[0;34m\u001b[0m\u001b[0m\n",
            "\u001b[0;32m/usr/local/lib/python3.9/dist-packages/sklearn/model_selection/_split.py\u001b[0m in \u001b[0;36mtrain_test_split\u001b[0;34m(test_size, train_size, random_state, shuffle, stratify, *arrays)\u001b[0m\n\u001b[1;32m   2560\u001b[0m \u001b[0;34m\u001b[0m\u001b[0m\n\u001b[1;32m   2561\u001b[0m     \u001b[0mn_samples\u001b[0m \u001b[0;34m=\u001b[0m \u001b[0m_num_samples\u001b[0m\u001b[0;34m(\u001b[0m\u001b[0marrays\u001b[0m\u001b[0;34m[\u001b[0m\u001b[0;36m0\u001b[0m\u001b[0;34m]\u001b[0m\u001b[0;34m)\u001b[0m\u001b[0;34m\u001b[0m\u001b[0;34m\u001b[0m\u001b[0m\n\u001b[0;32m-> 2562\u001b[0;31m     n_train, n_test = _validate_shuffle_split(\n\u001b[0m\u001b[1;32m   2563\u001b[0m         \u001b[0mn_samples\u001b[0m\u001b[0;34m,\u001b[0m \u001b[0mtest_size\u001b[0m\u001b[0;34m,\u001b[0m \u001b[0mtrain_size\u001b[0m\u001b[0;34m,\u001b[0m \u001b[0mdefault_test_size\u001b[0m\u001b[0;34m=\u001b[0m\u001b[0;36m0.25\u001b[0m\u001b[0;34m\u001b[0m\u001b[0;34m\u001b[0m\u001b[0m\n\u001b[1;32m   2564\u001b[0m     )\n",
            "\u001b[0;32m/usr/local/lib/python3.9/dist-packages/sklearn/model_selection/_split.py\u001b[0m in \u001b[0;36m_validate_shuffle_split\u001b[0;34m(n_samples, test_size, train_size, default_test_size)\u001b[0m\n\u001b[1;32m   2234\u001b[0m \u001b[0;34m\u001b[0m\u001b[0m\n\u001b[1;32m   2235\u001b[0m     \u001b[0;32mif\u001b[0m \u001b[0mn_train\u001b[0m \u001b[0;34m==\u001b[0m \u001b[0;36m0\u001b[0m\u001b[0;34m:\u001b[0m\u001b[0;34m\u001b[0m\u001b[0;34m\u001b[0m\u001b[0m\n\u001b[0;32m-> 2236\u001b[0;31m         raise ValueError(\n\u001b[0m\u001b[1;32m   2237\u001b[0m             \u001b[0;34m\"With n_samples={}, test_size={} and train_size={}, the \"\u001b[0m\u001b[0;34m\u001b[0m\u001b[0;34m\u001b[0m\u001b[0m\n\u001b[1;32m   2238\u001b[0m             \u001b[0;34m\"resulting train set will be empty. Adjust any of the \"\u001b[0m\u001b[0;34m\u001b[0m\u001b[0;34m\u001b[0m\u001b[0m\n",
            "\u001b[0;31mValueError\u001b[0m: With n_samples=0, test_size=0.3 and train_size=None, the resulting train set will be empty. Adjust any of the aforementioned parameters."
          ]
        }
      ]
    }
  ],
  "metadata": {
    "colab": {
      "provenance": [],
      "mount_file_id": "1MQyi0iNQuGwkPSDa_ioY3nhzW9csAXy5",
      "authorship_tag": "ABX9TyNkBZpSbicHGl9kbraVaHO+",
      "include_colab_link": true
    },
    "kernelspec": {
      "display_name": "Python 3",
      "name": "python3"
    },
    "language_info": {
      "name": "python"
    }
  },
  "nbformat": 4,
  "nbformat_minor": 0
}